{
 "cells": [
  {
   "cell_type": "markdown",
   "metadata": {},
   "source": [
    "##  导入依赖库\n",
    "1. pandas，用于读取xlsx表格\n",
    "2. base64，用于编码/解码算例文件\n",
    "3. json，用于编码/解码json字符串\n",
    "4. redis，用于服务器与客户端的通信\n",
    "5. threading，用于发布/订阅的并发"
   ]
  },
  {
   "cell_type": "code",
   "execution_count": 1,
   "metadata": {
    "slideshow": {
     "slide_type": "slide"
    }
   },
   "outputs": [],
   "source": [
    "import pandas as pd\n",
    "import base64,json\n",
    "import redis,threading\n",
    "host = \"localhost\""
   ]
  },
  {
   "cell_type": "markdown",
   "metadata": {},
   "source": [
    "## 优化计算结果频道订阅\n",
    "在接收到服务器的运行结果后，将其储存为excel文件"
   ]
  },
  {
   "cell_type": "code",
   "execution_count": 2,
   "metadata": {},
   "outputs": [],
   "source": [
    "def read_response():\n",
    "    r = redis.Redis(host=host,port=6379)\n",
    "    print(\"opt_response channel subscribed\")\n",
    "    sub = r.pubsub()\n",
    "    sub.subscribe(\"opt_response\")\n",
    "    resp = sub.parse_response()\n",
    "    while 1:\n",
    "        resp = sub.parse_response()\n",
    "        resp = resp[2]\n",
    "        print(\"message received\")\n",
    "        d = json.loads(resp)\n",
    "        print(d[\"case_info\"])\n",
    "        for filename in [\"agc\",\"nonagc\",\"wind\"]:\n",
    "            encoded_file = d[filename]\n",
    "            filepath = d[\"ID\"] + filename\n",
    "            with open(\"../results/\"+filepath+\".csv\",\"wb\") as f:\n",
    "                csv_file = base64.b64decode(encoded_file)\n",
    "                f.write(csv_file)\n",
    "                print(\"result saved as {0}\".format(filepath))"
   ]
  },
  {
   "cell_type": "markdown",
   "metadata": {},
   "source": [
    "## 建立redis连接"
   ]
  },
  {
   "cell_type": "code",
   "execution_count": 3,
   "metadata": {
    "slideshow": {
     "slide_type": "slide"
    }
   },
   "outputs": [
    {
     "name": "stdout",
     "output_type": "stream",
     "text": [
      "connection established\n"
     ]
    }
   ],
   "source": [
    "r = redis.Redis(host=host,port=6379)\n",
    "print(\"connection established\")"
   ]
  },
  {
   "cell_type": "markdown",
   "metadata": {},
   "source": [
    "## 开始优化计算结果频道订阅"
   ]
  },
  {
   "cell_type": "code",
   "execution_count": 4,
   "metadata": {},
   "outputs": [
    {
     "name": "stdout",
     "output_type": "stream",
     "text": [
      "opt_response channel subscribed\n"
     ]
    }
   ],
   "source": [
    "p = threading.Thread(target=read_response)\n",
    "p.start()"
   ]
  },
  {
   "cell_type": "markdown",
   "metadata": {},
   "source": [
    "##  发布计算请求\n",
    "1. 读取负荷预测、可再生能源预测Excel表\n",
    "2. 读取算例文件\n",
    "3. 结合用户参数配置，生成json消息\n",
    "4. 发布到计算请求频道"
   ]
  },
  {
   "cell_type": "code",
   "execution_count": 13,
   "metadata": {
    "scrolled": false,
    "slideshow": {
     "slide_type": "slide"
    }
   },
   "outputs": [
    {
     "name": "stdout",
     "output_type": "stream",
     "text": [
      "message sent\n",
      "message received\n",
      "{'windPercentMax': 0.3, 'nbus': 300, 'totalLoadMin': 169.89338283326063, 'ngen': 69, 'totalPmax': 326.78435, 'totalLoadMax': 294.105915, 'nbranch': 411, 'totalWindMin': 19.092614345190075, 'totalWindMax': 58.6142566721872}\n",
      "result saved as 98_1agc\n",
      "result saved as 98_1nonagc\n",
      "result saved as 98_1wind\n",
      "message received\n",
      "{'windPercentMax': 0.3, 'nbus': 300, 'totalLoadMin': 94.3852126851448, 'ngen': 69, 'totalPmax': 326.78435, 'totalLoadMax': 163.392175, 'nbranch': 411, 'totalWindMin': 3.5356693231833467, 'totalWindMax': 10.854491976330962}\n",
      "result saved as 98_1agc\n",
      "result saved as 98_1nonagc\n",
      "result saved as 98_1wind\n"
     ]
    }
   ],
   "source": [
    "load = pd.read_csv(\"../input/load data.csv\")\n",
    "casefile = open(\"../input/case300.m\",'rb')\n",
    "# case_encoded = base64.b64encode(casefile.read())\n",
    "case_encoded = casefile.read()\n",
    "case_encoded_json = str(case_encoded, encoding = \"utf-8\")\n",
    "for confidence in [98]:\n",
    "    for k in [1]:#多目标权重循环\n",
    "        df = pd.read_csv(\"../input/\" + str(confidence) + \"wind - 96.csv\")\n",
    "        WIND = [dict(bus=1,upper_bound=df[\"max\"].tolist(),lower_bound=df[\"min\"].tolist())]\n",
    "        system_load = load[\"load96\"].tolist()\n",
    "        d = {\"ID\":str(confidence)+'_'+str(k),\n",
    "            \"WIND\":WIND,\n",
    "            \"system_load\":system_load,\n",
    "            \"case\":case_encoded_json,\n",
    "            \"confidence\":confidence,\n",
    "            \"windCur_weight\":k,\n",
    "            \"Method\":-1}\n",
    "        json_msg = json.dumps(d)\n",
    "        r.publish(\"opt_requests\",json_msg)\n",
    "        print('message sent')"
   ]
  },
  {
   "cell_type": "markdown",
   "metadata": {},
   "source": [
    "### with on_off var reduction\n",
    "Best objective 9.527461382980e+06, best bound 9.526644262663e+06, gap 0.0086%, cpu time 38.52 seconds\n",
    "\n",
    "### without on_off var reduction\n",
    "Best objective 9.510280348464e+06, best bound 9.509412630681e+06, gap 0.0091%, cpu time 86.68 seconds"
   ]
  },
  {
   "cell_type": "code",
   "execution_count": 21,
   "metadata": {},
   "outputs": [],
   "source": [
    "import pandas as pd\n",
    "from scipy.interpolate import interp1d"
   ]
  },
  {
   "cell_type": "code",
   "execution_count": 39,
   "metadata": {},
   "outputs": [],
   "source": [
    "df = pd.read_csv(\"../input/load data.csv\")\n",
    "df.head()\n",
    "temp = df['load'].tolist()[0:24]\n",
    "f = interp1d(range(24), temp,kind='cubic')"
   ]
  },
  {
   "cell_type": "code",
   "execution_count": 61,
   "metadata": {},
   "outputs": [
    {
     "data": {
      "image/png": "[encoded data removed]",
      "text/plain": [
       "<Figure size 432x288 with 1 Axes>"
      ]
     },
     "metadata": {},
     "output_type": "display_data"
    }
   ],
   "source": [
    "load_new = []\n",
    "for t in range(96):\n",
    "    y = f(23*t/96)\n",
    "    load_new.append(float(y))\n",
    "load_new = pd.Series(load_new)\n",
    "load_new.plot()\n",
    "load_new.diff().plot()\n",
    "df[\"load96\"] = load_new\n",
    "df.to_csv(\"load data new.csv\")"
   ]
  },
  {
   "cell_type": "code",
   "execution_count": null,
   "metadata": {},
   "outputs": [],
   "source": []
  }
 ],
 "metadata": {
  "@webio": {
   "lastCommId": null,
   "lastKernelId": null
  },
  "kernelspec": {
   "display_name": "Python 3",
   "language": "python",
   "name": "python3"
  },
  "language_info": {
   "codemirror_mode": {
    "name": "ipython",
    "version": 3
   },
   "file_extension": ".py",
   "mimetype": "text/x-python",
   "name": "python",
   "nbconvert_exporter": "python",
   "pygments_lexer": "ipython3",
   "version": "3.6.5"
  }
 },
 "nbformat": 4,
 "nbformat_minor": 4
}
