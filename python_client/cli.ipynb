{
 "cells": [
  {
   "cell_type": "markdown",
   "metadata": {},
   "source": [
    "##  导入依赖库\n",
    "1. pandas，用于读取xlsx表格\n",
    "2. base64，用于编码/解码算例文件\n",
    "3. json，用于编码/解码json字符串\n",
    "4. redis，用于服务器与客户端的通信\n",
    "5. threading，用于发布/订阅的并发"
   ]
  },
  {
   "cell_type": "code",
   "execution_count": 1,
   "metadata": {
    "slideshow": {
     "slide_type": "slide"
    }
   },
   "outputs": [],
   "source": [
    "import pandas as pd\n",
    "import base64,json\n",
    "import redis,threading\n",
    "host = \"localhost\""
   ]
  },
  {
   "cell_type": "markdown",
   "metadata": {},
   "source": [
    "## 优化计算结果频道订阅\n",
    "在接收到服务器的运行结果后，将其储存为excel文件"
   ]
  },
  {
   "cell_type": "code",
   "execution_count": 2,
   "metadata": {},
   "outputs": [],
   "source": [
    "def read_response():\n",
    "    r = redis.Redis(host=host,port=6379)\n",
    "    print(\"opt_response channel subscribed\")\n",
    "    sub = r.pubsub()\n",
    "    sub.subscribe(\"opt_response\")\n",
    "    resp = sub.parse_response()\n",
    "    while 1:\n",
    "        resp = sub.parse_response()\n",
    "        resp = resp[2]\n",
    "        print(\"message received\")\n",
    "        d = json.loads(resp)\n",
    "        print(d[\"case_info\"])\n",
    "        for filename in [\"agc\",\"nonagc\",\"wind\"]:\n",
    "            encoded_file = d[filename]\n",
    "            filepath = d[\"ID\"] + filename\n",
    "            with open(\"../results/\"+filepath+\".csv\",\"wb\") as f:\n",
    "                csv_file = base64.b64decode(encoded_file)\n",
    "                f.write(csv_file)\n",
    "                print(\"result saved as {0}\".format(filepath))"
   ]
  },
  {
   "cell_type": "markdown",
   "metadata": {},
   "source": [
    "## 建立redis连接"
   ]
  },
  {
   "cell_type": "code",
   "execution_count": 3,
   "metadata": {
    "slideshow": {
     "slide_type": "slide"
    }
   },
   "outputs": [
    {
     "name": "stdout",
     "output_type": "stream",
     "text": [
      "connection established\n"
     ]
    }
   ],
   "source": [
    "r = redis.Redis(host=host,port=6379)\n",
    "print(\"connection established\")"
   ]
  },
  {
   "cell_type": "markdown",
   "metadata": {},
   "source": [
    "## 开始优化计算结果频道订阅"
   ]
  },
  {
   "cell_type": "code",
   "execution_count": 4,
   "metadata": {},
   "outputs": [
    {
     "name": "stdout",
     "output_type": "stream",
     "text": [
      "opt_response channel subscribed\n"
     ]
    }
   ],
   "source": [
    "p = threading.Thread(target=read_response)\n",
    "p.start()"
   ]
  },
  {
   "cell_type": "markdown",
   "metadata": {},
   "source": [
    "##  发布计算请求\n",
    "1. 读取负荷预测、可再生能源预测Excel表\n",
    "2. 读取算例文件\n",
    "3. 结合用户参数配置，生成json消息\n",
    "4. 发布到计算请求频道"
   ]
  },
  {
   "cell_type": "code",
   "execution_count": 10,
   "metadata": {
    "scrolled": false,
    "slideshow": {
     "slide_type": "slide"
    }
   },
   "outputs": [
    {
     "name": "stdout",
     "output_type": "stream",
     "text": [
      "message sent\n",
      "message received\n",
      "{'windPercentMax': 0.3, 'nbus': 1354, 'totalLoadMin': 658.4218121720278, 'ngen': 260, 'totalPmax': 1287.3860000000004, 'totalLoadMax': 1158.6474000000005, 'nbranch': 1991, 'totalWindMin': 75.21646740854288, 'totalWindMax': 230.91428166673344}\n",
      "result saved as 98_1agc\n",
      "result saved as 98_1nonagc\n",
      "result saved as 98_1wind\n",
      "message received\n",
      "{'windPercentMax': 0.3, 'nbus': 300, 'totalLoadMin': 213.4095569095416, 'ngen': 69, 'totalPmax': 326.78435, 'totalLoadMax': 294.10591500000004, 'nbranch': 411, 'totalWindMin': 19.092614345190075, 'totalWindMax': 58.6142566721872}\n",
      "result saved as 90_1agc\n",
      "result saved as 90_1nonagc\n",
      "result saved as 90_1wind\n",
      "message received\n",
      "{'windPercentMax': 0.3, 'nbus': 300, 'totalLoadMin': 213.4095569095416, 'ngen': 69, 'totalPmax': 326.78435, 'totalLoadMax': 294.10591500000004, 'nbranch': 411, 'totalWindMin': 19.092614345190075, 'totalWindMax': 58.6142566721872}\n",
      "result saved as 90_1agc\n",
      "result saved as 90_1nonagc\n",
      "result saved as 90_1wind\n",
      "message received\n",
      "{'windPercentMax': 0.3, 'nbus': 300, 'totalLoadMin': 213.4095569095416, 'ngen': 69, 'totalPmax': 326.78435, 'totalLoadMax': 294.10591500000004, 'nbranch': 411, 'totalWindMin': 19.092614345190075, 'totalWindMax': 58.6142566721872}\n",
      "result saved as 90_1agc\n",
      "result saved as 90_1nonagc\n",
      "result saved as 90_1wind\n",
      "message received\n",
      "{'windPercentMax': 0.3, 'nbus': 300, 'totalLoadMin': 209.7022007051843, 'ngen': 69, 'totalPmax': 326.78435, 'totalLoadMax': 294.10591500000004, 'nbranch': 411, 'totalWindMin': 19.092614345190075, 'totalWindMax': 58.6142566721872}\n",
      "result saved as 90_1agc\n",
      "result saved as 90_1nonagc\n",
      "result saved as 90_1wind\n",
      "message received\n",
      "{'windPercentMax': 0.3, 'nbus': 300, 'totalLoadMin': 192.31684520270593, 'ngen': 69, 'totalPmax': 326.78435, 'totalLoadMax': 294.10591500000004, 'nbranch': 411, 'totalWindMin': 19.092614345190075, 'totalWindMax': 58.6142566721872}\n",
      "result saved as 90_1agc\n",
      "result saved as 90_1nonagc\n",
      "result saved as 90_1wind\n",
      "message received\n",
      "{'windPercentMax': 0.3, 'nbus': 300, 'totalLoadMin': 192.31684520270593, 'ngen': 69, 'totalPmax': 326.78435, 'totalLoadMax': 294.10591500000004, 'nbranch': 411, 'totalWindMin': 19.092614345190075, 'totalWindMax': 58.6142566721872}\n",
      "result saved as 90_1agc\n",
      "result saved as 90_1nonagc\n",
      "result saved as 90_1wind\n",
      "message received\n",
      "{'windPercentMax': 0.3, 'nbus': 300, 'totalLoadMin': 219.8216382537792, 'ngen': 69, 'totalPmax': 326.78435, 'totalLoadMax': 294.10591500000004, 'nbranch': 411, 'totalWindMin': 19.092614345190075, 'totalWindMax': 58.6142566721872}\n",
      "result saved as 90_1agc\n",
      "result saved as 90_1nonagc\n",
      "result saved as 90_1wind\n",
      "message received\n",
      "{'windPercentMax': 0.3, 'nbus': 300, 'totalLoadMin': 219.2078867888887, 'ngen': 69, 'totalPmax': 326.78435, 'totalLoadMax': 294.10591500000004, 'nbranch': 411, 'totalWindMin': 19.092614345190075, 'totalWindMax': 58.6142566721872}\n",
      "result saved as 90_1agc\n",
      "result saved as 90_1nonagc\n",
      "result saved as 90_1wind\n",
      "message received\n",
      "{'windPercentMax': 0.3, 'nbus': 300, 'totalLoadMin': 219.2078867888887, 'ngen': 69, 'totalPmax': 326.78435, 'totalLoadMax': 294.10591500000004, 'nbranch': 411, 'totalWindMin': 19.092614345190075, 'totalWindMax': 58.6142566721872}\n",
      "result saved as 90_1agc\n",
      "result saved as 90_1nonagc\n",
      "result saved as 90_1wind\n",
      "message received\n",
      "{'windPercentMax': 0.3, 'nbus': 300, 'totalLoadMin': 216.9409366123339, 'ngen': 69, 'totalPmax': 326.78435, 'totalLoadMax': 294.10591500000004, 'nbranch': 411, 'totalWindMin': 19.092614345190075, 'totalWindMax': 58.6142566721872}\n",
      "result saved as 90_1agc\n",
      "result saved as 90_1nonagc\n",
      "result saved as 90_1wind\n",
      "message received\n",
      "{'windPercentMax': 0.3, 'nbus': 300, 'totalLoadMin': 205.9028774694977, 'ngen': 69, 'totalPmax': 326.78435, 'totalLoadMax': 294.10591500000004, 'nbranch': 411, 'totalWindMin': 19.092614345190075, 'totalWindMax': 58.6142566721872}\n",
      "result saved as 90_1agc\n",
      "result saved as 90_1nonagc\n",
      "result saved as 90_1wind\n",
      "message received\n",
      "{'windPercentMax': 0.3, 'nbus': 300, 'totalLoadMin': 205.9028774694977, 'ngen': 69, 'totalPmax': 326.78435, 'totalLoadMax': 294.10591500000004, 'nbranch': 411, 'totalWindMin': 19.092614345190075, 'totalWindMax': 58.6142566721872}\n",
      "result saved as 90_1agc\n",
      "result saved as 90_1nonagc\n",
      "result saved as 90_1wind\n",
      "message received\n",
      "{'windPercentMax': 0.3, 'nbus': 300, 'totalLoadMin': 237.2360174933012, 'ngen': 69, 'totalPmax': 326.78435, 'totalLoadMax': 294.10591500000004, 'nbranch': 411, 'totalWindMin': 19.092614345190075, 'totalWindMax': 58.6142566721872}\n",
      "result saved as 90_1agc\n",
      "result saved as 90_1nonagc\n",
      "result saved as 90_1wind\n",
      "message received\n",
      "{'windPercentMax': 0.3, 'nbus': 300, 'totalLoadMin': 212.9564189502214, 'ngen': 69, 'totalPmax': 326.78435, 'totalLoadMax': 294.10591500000004, 'nbranch': 411, 'totalWindMin': 19.092614345190075, 'totalWindMax': 58.6142566721872}\n",
      "result saved as 90_1agc\n",
      "result saved as 90_1nonagc\n",
      "result saved as 90_1wind\n",
      "message received\n",
      "{'windPercentMax': 0.3, 'nbus': 300, 'totalLoadMin': 201.95895692115894, 'ngen': 69, 'totalPmax': 326.78435, 'totalLoadMax': 294.10591500000004, 'nbranch': 411, 'totalWindMin': 19.092614345190075, 'totalWindMax': 58.6142566721872}\n",
      "result saved as 90_1agc\n",
      "result saved as 90_1nonagc\n",
      "result saved as 90_1wind\n",
      "message received\n",
      "{'windPercentMax': 0.3, 'nbus': 300, 'totalLoadMin': 213.4095569095416, 'ngen': 69, 'totalPmax': 326.78435, 'totalLoadMax': 294.10591500000004, 'nbranch': 411, 'totalWindMin': 19.092614345190075, 'totalWindMax': 58.6142566721872}\n",
      "result saved as 90_1agc\n",
      "result saved as 90_1nonagc\n",
      "result saved as 90_1wind\n",
      "message received\n",
      "{'windPercentMax': 0.3, 'nbus': 300, 'totalLoadMin': 206.46270378922756, 'ngen': 69, 'totalPmax': 326.78435, 'totalLoadMax': 294.10591500000004, 'nbranch': 411, 'totalWindMin': 19.092614345190075, 'totalWindMax': 58.6142566721872}\n",
      "result saved as 90_1agc\n",
      "result saved as 90_1nonagc\n",
      "result saved as 90_1wind\n",
      "message received\n",
      "{'windPercentMax': 0.3, 'nbus': 300, 'totalLoadMin': 212.22711496029206, 'ngen': 69, 'totalPmax': 326.78435, 'totalLoadMax': 294.10591500000004, 'nbranch': 411, 'totalWindMin': 19.092614345190075, 'totalWindMax': 58.61425667218721}\n",
      "result saved as 90_1agc\n",
      "result saved as 90_1nonagc\n",
      "result saved as 90_1wind\n",
      "message received\n",
      "{'windPercentMax': 0.3, 'nbus': 300, 'totalLoadMin': 212.9379241188377, 'ngen': 69, 'totalPmax': 326.78435, 'totalLoadMax': 294.10591500000004, 'nbranch': 411, 'totalWindMin': 19.092614345190075, 'totalWindMax': 58.61425667218721}\n",
      "result saved as 90_1agc\n",
      "result saved as 90_1nonagc\n",
      "result saved as 90_1wind\n",
      "message received\n",
      "{'windPercentMax': 0.3, 'nbus': 300, 'totalLoadMin': 201.95895692115894, 'ngen': 69, 'totalPmax': 326.78435, 'totalLoadMax': 294.10591500000004, 'nbranch': 411, 'totalWindMin': 19.092614345190075, 'totalWindMax': 58.61425667218721}\n",
      "result saved as 90_1agc\n",
      "result saved as 90_1nonagc\n",
      "result saved as 90_1wind\n",
      "message received\n",
      "{'windPercentMax': 0.3, 'nbus': 300, 'totalLoadMin': 221.58995725717563, 'ngen': 69, 'totalPmax': 326.78435, 'totalLoadMax': 294.10591500000004, 'nbranch': 411, 'totalWindMin': 19.092614345190075, 'totalWindMax': 58.61425667218721}\n",
      "result saved as 90_1agc\n",
      "result saved as 90_1nonagc\n",
      "result saved as 90_1wind\n",
      "message received\n",
      "{'windPercentMax': 0.3, 'nbus': 300, 'totalLoadMin': 221.58995725717563, 'ngen': 69, 'totalPmax': 326.78435, 'totalLoadMax': 294.10591500000004, 'nbranch': 411, 'totalWindMin': 19.092614345190075, 'totalWindMax': 58.61425667218721}\n",
      "result saved as 90_1agc\n",
      "result saved as 90_1nonagc\n",
      "result saved as 90_1wind\n",
      "message received\n",
      "{'windPercentMax': 0.3, 'nbus': 300, 'totalLoadMin': 209.7022007051843, 'ngen': 69, 'totalPmax': 326.78435, 'totalLoadMax': 294.10591500000004, 'nbranch': 411, 'totalWindMin': 19.092614345190075, 'totalWindMax': 58.61425667218721}\n",
      "result saved as 90_1agc\n",
      "result saved as 90_1nonagc\n",
      "result saved as 90_1wind\n",
      "message received\n",
      "{'windPercentMax': 0.3, 'nbus': 300, 'totalLoadMin': 209.7022007051843, 'ngen': 69, 'totalPmax': 326.78435, 'totalLoadMax': 294.10591500000004, 'nbranch': 411, 'totalWindMin': 19.092614345190075, 'totalWindMax': 58.61425667218721}\n",
      "result saved as 90_1agc\n",
      "result saved as 90_1nonagc\n",
      "result saved as 90_1wind\n",
      "message received\n",
      "{'windPercentMax': 0.3, 'nbus': 300, 'totalLoadMin': 199.4950923774687, 'ngen': 69, 'totalPmax': 326.78435, 'totalLoadMax': 294.10591500000004, 'nbranch': 411, 'totalWindMin': 19.092614345190075, 'totalWindMax': 58.61425667218721}\n",
      "result saved as 90_1agc\n",
      "result saved as 90_1nonagc\n",
      "result saved as 90_1wind\n"
     ]
    },
    {
     "name": "stdout",
     "output_type": "stream",
     "text": [
      "message received\n",
      "{'windPercentMax': 0.3, 'nbus': 300, 'totalLoadMin': 199.4950923774687, 'ngen': 69, 'totalPmax': 326.78435, 'totalLoadMax': 294.10591500000004, 'nbranch': 411, 'totalWindMin': 19.092614345190075, 'totalWindMax': 58.61425667218721}\n",
      "result saved as 90_1agc\n",
      "result saved as 90_1nonagc\n",
      "result saved as 90_1wind\n",
      "message received\n",
      "{'windPercentMax': 0.3, 'nbus': 300, 'totalLoadMin': 201.95895692115894, 'ngen': 69, 'totalPmax': 326.78435, 'totalLoadMax': 294.10591500000004, 'nbranch': 411, 'totalWindMin': 19.092614345190075, 'totalWindMax': 58.61425667218721}\n",
      "result saved as 90_1agc\n",
      "result saved as 90_1nonagc\n",
      "result saved as 90_1wind\n",
      "message received\n",
      "{'windPercentMax': 0.3, 'nbus': 300, 'totalLoadMin': 209.7022007051843, 'ngen': 69, 'totalPmax': 326.78435, 'totalLoadMax': 294.10591500000004, 'nbranch': 411, 'totalWindMin': 19.092614345190075, 'totalWindMax': 58.61425667218721}\n",
      "result saved as 90_1agc\n",
      "result saved as 90_1nonagc\n",
      "result saved as 90_1wind\n",
      "message received\n",
      "{'windPercentMax': 0.3, 'nbus': 300, 'totalLoadMin': 213.18482460113833, 'ngen': 69, 'totalPmax': 326.78435, 'totalLoadMax': 294.10591500000004, 'nbranch': 411, 'totalWindMin': 19.092614345190075, 'totalWindMax': 58.61425667218721}\n",
      "result saved as 90_1agc\n",
      "result saved as 90_1nonagc\n",
      "result saved as 90_1wind\n",
      "message received\n",
      "{'windPercentMax': 0.3, 'nbus': 300, 'totalLoadMin': 206.46270378922756, 'ngen': 69, 'totalPmax': 326.78435, 'totalLoadMax': 294.10591500000004, 'nbranch': 411, 'totalWindMin': 19.092614345190075, 'totalWindMax': 58.61425667218721}\n",
      "result saved as 90_1agc\n",
      "result saved as 90_1nonagc\n",
      "result saved as 90_1wind\n"
     ]
    }
   ],
   "source": [
    "load = pd.read_csv(\"../input/load data new.csv\")\n",
    "casefile = open(\"../input/pglib_opf_case1354_pegase.m\",'rb')\n",
    "# case_encoded = base64.b64encode(casefile.read())\n",
    "case_encoded = casefile.read()\n",
    "case_encoded_json = str(case_encoded, encoding = \"utf-8\")\n",
    "for confidence in [98]:\n",
    "    for k in [1]:#多目标权重循环\n",
    "        df = pd.read_csv(\"../input/\" + str(confidence) + \"wind - 96.csv\")\n",
    "        WIND = [dict(bus=1,upper_bound=df[\"max\"].tolist(),lower_bound=df[\"min\"].tolist())]\n",
    "        system_load = load[\"load96\"].tolist()\n",
    "        d = {\"ID\":str(confidence)+'_'+str(k),\n",
    "            \"WIND\":WIND,\n",
    "            \"system_load\":system_load,\n",
    "            \"case\":case_encoded_json,\n",
    "            \"confidence\":confidence,\n",
    "            \"windCur_weight\":k,\n",
    "            \"Method\":-1}\n",
    "        json_msg = json.dumps(d)\n",
    "        r.publish(\"opt_requests\",json_msg)\n",
    "        print('message sent')"
   ]
  },
  {
   "cell_type": "markdown",
   "metadata": {},
   "source": [
    "### with on_off var reduction\n",
    "Best objective 9.527461382980e+06, best bound 9.526644262663e+06, gap 0.0086%, cpu time 38.52 seconds\n",
    "\n",
    "### without on_off var reduction\n",
    "Best objective 9.510280348464e+06, best bound 9.509412630681e+06, gap 0.0091%, cpu time 86.68 seconds"
   ]
  },
  {
   "cell_type": "markdown",
   "metadata": {},
   "source": [
    "import pandas as pd\n",
    "from scipy.interpolate import interp1d"
   ]
  },
  {
   "cell_type": "markdown",
   "metadata": {},
   "source": [
    "df = pd.read_csv(\"../input/load data.csv\")\n",
    "df.head()\n",
    "temp = df['load'].tolist()[0:24]\n",
    "f = interp1d(range(24), temp,kind='cubic')"
   ]
  },
  {
   "cell_type": "markdown",
   "metadata": {},
   "source": [
    "load_new = []\n",
    "for t in range(96):\n",
    "    y = f(23*t/96)\n",
    "    load_new.append(float(y))\n",
    "load_new = pd.Series(load_new)\n",
    "load_new.plot()\n",
    "# load_new.diff().plot()\n",
    "df[\"load96\"] = load_new\n",
    "df.to_csv(\"../input/load data new.csv\")"
   ]
  },
  {
   "cell_type": "markdown",
   "metadata": {},
   "source": [
    "{\n",
    "    \"confidence\":0.9,#置信度\n",
    "    \"objective_weights\":{\n",
    "        \"economical\":0.5,#经济性\n",
    "        \"environmental\":0.25,#环保性\n",
    "        \"renewable\":0.25#新能源消纳\n",
    "    },#多目标优化权重\n",
    "    \"casefile\":\"case300.m\",#matpower格式的算例文件\n",
    "    \"forecast\":{\n",
    "        \"renewable\":\n",
    "            [{\"bus\":1,#新能源电站所处母线编号\n",
    "                \"upperbound\":list(),#预测出力上界\n",
    "                \"lowerbound\":list()#预测出力下界\n",
    "            }],\n",
    "        \"load\":[{\"bus\":1,#负荷所处母线编号\n",
    "                \"upperbound\":list(),#预测出力上界\n",
    "                \"lowerbound\":list()#预测出力下界\n",
    "            }]\n",
    "    },\n",
    "    \"multi_objective\":1,#多目标优化模式，1代表多目标，0代表单目标\n",
    "    \"fast_mode\":0,#快速计算模式，1代表快速计算，0代表精确计算\n",
    "    \"MIP_Gap\":0.0001,#求解器对偶间隙\n",
    "    \"algorithm\":-1,#求解器算法，-1代表默认值\n",
    "}"
   ]
  },
  {
   "cell_type": "markdown",
   "metadata": {},
   "source": [
    "{\n",
    "    \"system_info\":{\n",
    "        'windPercentMax': 0.3,#最大风电占比\n",
    "        'nbus': 300, #节点数\n",
    "        'totalLoadMin': 167,#总负荷最小值\n",
    "        'ngen': 69, #机组数\n",
    "        'totalPmax': 326.78,#机组总容量\n",
    "        'totalLoadMax': 294,#总负荷最大值\n",
    "        'nbranch': 411,#线路数\n",
    "        'totalWindMin': 19,#总风电出力最小值\n",
    "        'totalWindMax': 58.6#总风电出力最大值\n",
    "    },#系统概要\n",
    "    \"results\":[\n",
    "        {\n",
    "            \"objective_weights\":{\n",
    "                \"economical\":0.5,#经济性\n",
    "                \"environmental\":0.25,#环保性\n",
    "                \"renewable\":0.25#新能源消纳\n",
    "            },#多目标优化权重\n",
    "            \"fixed\":'fixed_0.xlsx',#不含运行区间的机组调度计划excel文件名，包含启停计划、基准出力\n",
    "            \"variable\":'variable_0.xlsx'#含运行区间的机组调度计划excel文件名，包含启停计划、基准出力、出力区间\n",
    "            \"objective_value\":{\n",
    "                \"economical\":10124523,#运行成本\n",
    "                \"environmental\":324,#二氧化碳排放量\n",
    "                \"renewable\":0.95#新能源消纳率\n",
    "            },#目标函数最优值\n",
    "        },\n",
    "        {\n",
    "            \"objective_weights\":{\n",
    "                \"economical\":0.25,#经济性\n",
    "                \"environmental\":0.5,#环保性\n",
    "                \"renewable\":0.25#新能源消纳\n",
    "            },#多目标优化权重\n",
    "            \"fixed\":'fixed_1.xlsx',#不含运行区间的机组调度计划excel文件名，包含启停计划、基准出力\n",
    "            \"variable\":'variable_1.xlsx'#含运行区间的机组调度计划excel文件名，包含启停计划、基准出力、出力区间\n",
    "            \"objective_value\":{\n",
    "                \"economical\":10524523,#运行成本\n",
    "                \"environmental\":300,#二氧化碳排放量\n",
    "                \"renewable\":0.95#新能源消纳率\n",
    "            },#目标函数最优值\n",
    "        }\n",
    "    ]\n",
    "}"
   ]
  }
 ],
 "metadata": {
  "@webio": {
   "lastCommId": null,
   "lastKernelId": null
  },
  "kernelspec": {
   "display_name": "Python 3",
   "language": "python",
   "name": "python3"
  },
  "language_info": {
   "codemirror_mode": {
    "name": "ipython",
    "version": 3
   },
   "file_extension": ".py",
   "mimetype": "text/x-python",
   "name": "python",
   "nbconvert_exporter": "python",
   "pygments_lexer": "ipython3",
   "version": "3.7.0"
  }
 },
 "nbformat": 4,
 "nbformat_minor": 4
}
